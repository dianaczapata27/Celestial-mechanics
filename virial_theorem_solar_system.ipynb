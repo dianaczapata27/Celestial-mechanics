{
  "nbformat": 4,
  "nbformat_minor": 0,
  "metadata": {
    "colab": {
      "provenance": []
    },
    "kernelspec": {
      "name": "python3",
      "display_name": "Python 3"
    },
    "language_info": {
      "name": "python"
    }
  },
  "cells": [
    {
      "cell_type": "code",
      "execution_count": 1,
      "metadata": {
        "id": "klqQUrdss2bO"
      },
      "outputs": [],
      "source": [
        "!python -m pip install spiceypy > /dev/null 2>&1"
      ]
    },
    {
      "cell_type": "code",
      "source": [
        "import spiceypy as spy\n",
        "import numpy as np\n",
        "import matplotlib.pyplot as plt\n",
        "import pandas as pd"
      ],
      "metadata": {
        "id": "AmhI-VxmtJzx"
      },
      "execution_count": 2,
      "outputs": []
    },
    {
      "cell_type": "code",
      "source": [
        "!wget https://naif.jpl.nasa.gov/pub/naif/generic_kernels/lsk/naif0012.tls > /dev/null 2>&1\n",
        "!wget https://naif.jpl.nasa.gov/pub/naif/generic_kernels/spk/planets/de435.bsp > /dev/null 2>&1\n",
        "!wget https://naif.jpl.nasa.gov/pub/naif/generic_kernels/pck/gm_de431.tpc > /dev/null 2>&1"
      ],
      "metadata": {
        "id": "ZLzw5vFjtOw8"
      },
      "execution_count": 3,
      "outputs": []
    },
    {
      "cell_type": "code",
      "source": [
        "spy.furnsh([\"naif0012.tls\",\"de435.bsp\",\"gm_de431.tpc\"])"
      ],
      "metadata": {
        "id": "c5Axztd7tPPl"
      },
      "execution_count": 4,
      "outputs": []
    },
    {
      "cell_type": "markdown",
      "source": [
        "#1. Calculate the positions and velocities of the Sun, Jupiter, and Saturn over 100 years in 1-month intervals."
      ],
      "metadata": {
        "id": "cLDCcWCXtlwh"
      }
    },
    {
      "cell_type": "markdown",
      "source": [
        "#2.Calculate $K$, $U$ and the total energy of the system at all previous times."
      ],
      "metadata": {
        "id": "otKz2Wy_0CW2"
      }
    },
    {
      "cell_type": "markdown",
      "source": [
        "To calculate the total energy of the Solar System, we first need the magnitude of the kinetic energy $(K)$ and the gravitational potential energy $(U)$ of each planet. Thus, to calculate the total energies, we have:"
      ],
      "metadata": {
        "id": "U3FfehqpIEj7"
      }
    },
    {
      "cell_type": "markdown",
      "source": [
        "$$K_{total} = \\sum_{i=1}^{N} \\frac{1}{2}m_i v_i^2 $$"
      ],
      "metadata": {
        "id": "61YBbr6RIJQu"
      }
    },
    {
      "cell_type": "markdown",
      "source": [
        "$$U_{total} = \\sum_{i\\neq j}^{N} -\\frac{G m_i m_j}{r^3} r_{ij} $$"
      ],
      "metadata": {
        "id": "aoIYKFF8IM8q"
      }
    },
    {
      "cell_type": "markdown",
      "source": [
        "Where we can finally obtain the total energy by: $$E_{total} = K_{total} + U_{total}$$"
      ],
      "metadata": {
        "id": "jJovKGHuIRdK"
      }
    },
    {
      "cell_type": "markdown",
      "source": [
        "$\\textbf{Start Date:}$ April 27, 2001"
      ],
      "metadata": {
        "id": "emRrWWFUtqip"
      }
    },
    {
      "cell_type": "markdown",
      "source": [
        "For this point, we will assume that 1 month = 30 days"
      ],
      "metadata": {
        "id": "zgZL0ueau34H"
      }
    },
    {
      "cell_type": "code",
      "source": [
        "# Initial date (your birthday)\n",
        "et0 = spy.str2et(\"2001-04-27 00:00:00 UTC-5\")\n",
        "\n",
        "# Time array: 100 years in steps of 1 month (in seconds)\n",
        "times = np.arange(0, 100 * 365.25 * 86400, 30 * 86400)\n",
        "\n",
        "# Gravitational constant in km³/kg/s²\n",
        "G = 6.67430e-20\n",
        "\n",
        "# Masses from GM / G\n",
        "bodies = [\"Sun\", \"Jupiter Barycenter\", \"Saturn Barycenter\"]\n",
        "masses = {body: spy.bodvrd(body, \"GM\", 1)[1][0] / G for body in bodies}"
      ],
      "metadata": {
        "id": "oubf215IfH9e"
      },
      "execution_count": 5,
      "outputs": []
    },
    {
      "cell_type": "code",
      "source": [
        "# Store positions, velocities, energies\n",
        "positions = {body: [] for body in bodies}\n",
        "velocities = {body: [] for body in bodies}\n",
        "K_total, U_total, E_total = [], [], []\n",
        "\n",
        "for dt in times:\n",
        "    et = et0 + dt\n",
        "\n",
        "    # Get state vectors for all bodies at this epoch\n",
        "    states = {}\n",
        "    for body in bodies:\n",
        "        state, _ = spy.spkezr(body, et, \"ECLIPJ2000\", \"None\", \"SSB\")\n",
        "        r = np.array(state[:3])\n",
        "        v = np.array(state[3:])\n",
        "        positions[body].append(r)\n",
        "        velocities[body].append(v)\n",
        "        states[body] = {\"r\": r, \"v\": v}\n",
        "\n",
        "    # Compute total kinetic energy\n",
        "    K = sum(\n",
        "        0.5 * masses[body] * spy.vnorm(states[body][\"v\"])**2\n",
        "        for body in bodies\n",
        "    )\n",
        "    K_total.append(K)\n",
        "\n",
        "    # Compute potential energy from pairwise interactions\n",
        "    U = 0\n",
        "    for i in range(len(bodies)):\n",
        "        for j in range(i + 1, len(bodies)):\n",
        "            b1, b2 = bodies[i], bodies[j]\n",
        "            r1, r2 = states[b1][\"r\"], states[b2][\"r\"]\n",
        "            m1, m2 = masses[b1], masses[b2]\n",
        "            distance = spy.vdist(r1, r2)\n",
        "            U += -G * m1 * m2 / distance\n",
        "    U_total.append(U)\n",
        "\n",
        "    # Compute total energy and convert to Joules (km² → m²)\n",
        "    E_total.append((K + U) * 1e6)"
      ],
      "metadata": {
        "id": "MjV7WtDtfH_x"
      },
      "execution_count": 7,
      "outputs": []
    },
    {
      "cell_type": "code",
      "source": [
        "# Convert energies to Joules\n",
        "K_total = [K * 1e6 for K in K_total]\n",
        "U_total = [U * 1e6 for U in U_total]\n",
        "E_total = [E * 1e6 for E in E_total]"
      ],
      "metadata": {
        "id": "vRN87GWOwqte"
      },
      "execution_count": 9,
      "outputs": []
    },
    {
      "cell_type": "markdown",
      "source": [
        "# 3. At the initial time, calculate the forces felt by each body and calculate the value of the virial."
      ],
      "metadata": {
        "id": "TSsVT0q_4jYv"
      }
    },
    {
      "cell_type": "markdown",
      "source": [
        "To calculate the forces felt by each body, we use the following formula:"
      ],
      "metadata": {
        "id": "Ff9nFJtHHrHg"
      }
    },
    {
      "cell_type": "markdown",
      "source": [
        "$$ \\vec{F_{ij}} = \\frac{-G m_i m_j}{r_{ij}^3 } \\vec{r_{ij}}$$"
      ],
      "metadata": {
        "id": "r4qdQBxYGzOj"
      }
    },
    {
      "cell_type": "markdown",
      "source": [
        "We will obtain the virial from: $$V = \\sum_{p=1}^{N} \\vec{r_p} \\cdot \\vec{F_p}$$"
      ],
      "metadata": {
        "id": "p9j_UWAMI0Mj"
      }
    },
    {
      "cell_type": "code",
      "source": [
        "# Define the initial date\n",
        "et = spy.str2et(\"2001-04-27 00:00:00 UTC-5\")\n",
        "\n",
        "# Masses (retrieved using GM / G)\n",
        "M_sun = spy.bodvrd(\"Sun\", \"GM\", 1)[1][0] / G\n",
        "M_jupiter = spy.bodvrd(\"Jupiter Barycenter\", \"GM\", 1)[1][0] / G\n",
        "M_saturn = spy.bodvrd(\"Saturn Barycenter\", \"GM\", 1)[1][0] / G\n",
        "\n",
        "# Get position vectors of the Sun, Jupiter, and Saturn\n",
        "state_sun, _ = spy.spkezr(\"Sun\", et, \"ECLIPJ2000\", \"None\", \"SSB\")\n",
        "state_jupiter, _ = spy.spkezr(\"Jupiter Barycenter\", et, \"ECLIPJ2000\", \"None\", \"SSB\")\n",
        "state_saturn, _ = spy.spkezr(\"Saturn Barycenter\", et, \"ECLIPJ2000\", \"None\", \"SSB\")\n",
        "\n",
        "r_sun = np.array(state_sun[:3])\n",
        "r_jupiter = np.array(state_jupiter[:3])\n",
        "r_saturn = np.array(state_saturn[:3])"
      ],
      "metadata": {
        "id": "u7NqLTCN92RY"
      },
      "execution_count": 14,
      "outputs": []
    },
    {
      "cell_type": "code",
      "source": [
        "# Compute gravitational forces between each pair\n",
        "def gravitational_force(m1, m2, r1, r2):\n",
        "    r_vec = r1 - r2\n",
        "    r_norm = spy.vnorm(r_vec)\n",
        "    return -G * m1 * m2 / r_norm**3 * r_vec"
      ],
      "metadata": {
        "id": "3HmQqdQI_PTg"
      },
      "execution_count": 12,
      "outputs": []
    },
    {
      "cell_type": "code",
      "source": [
        "# Individual forces\n",
        "F_sun = gravitational_force(M_sun, M_jupiter, r_sun, r_jupiter) + gravitational_force(M_sun, M_saturn, r_sun, r_saturn)\n",
        "F_jupiter = gravitational_force(M_jupiter, M_sun, r_jupiter, r_sun) + gravitational_force(M_jupiter, M_saturn, r_jupiter, r_saturn)\n",
        "F_saturn = gravitational_force(M_saturn, M_sun, r_saturn, r_sun) + gravitational_force(M_saturn, M_jupiter, r_saturn, r_jupiter)\n",
        "\n",
        "# Compute virial: V = sum(r_i · F_i)\n",
        "virial = (np.dot(r_sun, F_sun) + np.dot(r_jupiter, F_jupiter) + np.dot(r_saturn, F_saturn)) * 1e6  # to Joules"
      ],
      "metadata": {
        "id": "m3ZZ_7v8f0WM"
      },
      "execution_count": 15,
      "outputs": []
    },
    {
      "cell_type": "code",
      "source": [
        "print(\"Force on the Sun at initial time:\", F_sun, \"N\")\n",
        "print(\"Force on Jupiter at initial time:\", F_jupiter, \"N\")\n",
        "print(\"Force on Saturn at initial time:\", F_saturn, \"N\")\n",
        "print(\"Virial value at initial time:\", virial, \"J\")\n",
        "print(\"Gravitational potential energy at initial time:\", U_total[0], \"J\")"
      ],
      "metadata": {
        "colab": {
          "base_uri": "https://localhost:8080/"
        },
        "id": "iE_gzd7NgB3I",
        "outputId": "18f6c559-860e-4d8d-9091-abf3d8bc7330"
      },
      "execution_count": 16,
      "outputs": [
        {
          "output_type": "stream",
          "name": "stdout",
          "text": [
            "Force on the Sun at initial time: [ 9.90600041e+19  4.64620056e+20 -4.94695058e+18] N\n",
            "Force on Jupiter at initial time: [-8.06502252e+19 -4.28114876e+20  3.57661650e+18] N\n",
            "Force on Saturn at initial time: [-1.84097789e+19 -3.65051802e+19  1.37033408e+18] N\n",
            "Virial value at initial time: -3.869190293804644e+35 J\n",
            "Gravitational potential energy at initial time: -3.869190293804645e+35 J\n"
          ]
        }
      ]
    },
    {
      "cell_type": "markdown",
      "source": [
        "The gravitational potential energy \\( U \\) is a homogeneous function, and according to Euler's theorem for homogeneous functions we have:\n",
        "\n",
        "$$\n",
        "\\vec{r} \\cdot \\nabla U = kU = -U\n",
        "$$\n",
        "\n",
        "Where \\( k \\) is the degree of the function, which in this case is \\( -1 \\) for \\( U \\).\n",
        "\n",
        "At the same time, the virial is defined as:\n",
        "\n",
        "$$\n",
        "V \\equiv \\vec{r} \\cdot \\vec{F}\n",
        "$$\n",
        "\n",
        "Thus, we finally obtain:\n",
        "\n",
        "$$\n",
        "V = \\vec{r} \\cdot \\vec{F} = \\vec{r} \\cdot \\nabla U (-1) = U\n",
        "$$\n",
        "\n",
        "$$\n",
        "V = U\n",
        "$$\n",
        "\n",
        "This is confirmed by our numerical results: both the virial and the total gravitational potential energy of the bodies yielded the same value."
      ],
      "metadata": {
        "id": "cIdwv4BugWDu"
      }
    },
    {
      "cell_type": "markdown",
      "source": [
        "# 4. Average of K, U and E"
      ],
      "metadata": {
        "id": "dFFfIPYENk-J"
      }
    },
    {
      "cell_type": "code",
      "source": [
        "# Compute averages of kinetic, potential, and total energy\n",
        "K_avg = np.mean(K_total)\n",
        "U_avg = np.mean(U_total)\n",
        "E_avg = np.mean(E_total)"
      ],
      "metadata": {
        "id": "GgHpDTiUguPu"
      },
      "execution_count": 19,
      "outputs": []
    },
    {
      "cell_type": "code",
      "source": [
        "# Print averages\n",
        "print(\"Average kinetic energy:\", K_avg, \"J\")\n",
        "print(\"Average potential energy:\", U_avg, \"J\")\n",
        "print(\"Average total energy:\", E_avg, \"J\")"
      ],
      "metadata": {
        "id": "vtmsrdX-B9UZ",
        "colab": {
          "base_uri": "https://localhost:8080/"
        },
        "outputId": "db07f1ce-9fab-4d82-9611-551dbce1f986"
      },
      "execution_count": 20,
      "outputs": [
        {
          "output_type": "stream",
          "name": "stdout",
          "text": [
            "Average kinetic energy: 1.880751793065654e+35 J\n",
            "Average potential energy: -3.763834759120145e+35 J\n",
            "Average total energy: -1.883082966054491e+41 J\n"
          ]
        }
      ]
    },
    {
      "cell_type": "code",
      "source": [
        "# Check virial theorem relations\n",
        "print(\"-2 * K_avg =\", -2 * K_avg, \"J\")\n",
        "print(\"Initial total energy =\", E_total[0], \"J\")\n",
        "print(\"-K_avg =\", -K_avg, \"J\")\n",
        "print(\"2 * K_avg + U_avg =\", 2 * K_avg + U_avg, \"J\")"
      ],
      "metadata": {
        "colab": {
          "base_uri": "https://localhost:8080/"
        },
        "id": "nCc5Er8LYc2Z",
        "outputId": "ec646a61-2e4d-485a-fa84-3596d20f4ab5"
      },
      "execution_count": 21,
      "outputs": [
        {
          "output_type": "stream",
          "name": "stdout",
          "text": [
            "-2 * K_avg = -3.761503586131308e+35 J\n",
            "Initial total energy = -1.8831331528681246e+41 J\n",
            "-K_avg = -1.880751793065654e+35 J\n",
            "2 * K_avg + U_avg = -2.3311729888371826e+32 J\n"
          ]
        }
      ]
    },
    {
      "cell_type": "markdown",
      "source": [
        "The virial theorem tells us:\n",
        "\n",
        "$$\n",
        "\\langle U \\rangle = -2 \\langle K \\rangle\n",
        "$$\n",
        "\n",
        "$$\n",
        "E = -\\langle K \\rangle\n",
        "$$\n",
        "\n",
        "We verify that for the Sun–Jupiter–Saturn system, the theorem holds, since the difference between\n",
        "$$\\langle U \\rangle$$ and $$-2 \\langle K \\rangle$$ is less than 1%.\n",
        "\n",
        "The same applies to the difference between $$E$$ and $$-\\langle K \\rangle$$.\n",
        "\n",
        "We finally conclude that this system is a bound system, since the following condition is satisfied:\n",
        "\n",
        "$$\n",
        "\\dot{G} = 2 \\langle K \\rangle + \\langle U \\rangle = 0\n",
        "$$\n"
      ],
      "metadata": {
        "id": "xhd09APkpzXG"
      }
    },
    {
      "cell_type": "code",
      "source": [],
      "metadata": {
        "id": "KCcy8i1khNGN"
      },
      "execution_count": null,
      "outputs": []
    }
  ]
}